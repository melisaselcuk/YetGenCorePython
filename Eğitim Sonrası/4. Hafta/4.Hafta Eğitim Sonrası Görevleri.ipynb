{
 "cells": [
  {
   "cell_type": "markdown",
   "metadata": {},
   "source": [
    "# Problem 1\n",
    "`ogrenciler` adında bir sözlük oluşturunuz. Kullanıcıdan döngü yardımıyla 3 öğrenci için veri girmesini isteyerek öğrencilerin sırasıyla okul numarası, isim, soy isim, telefon numarası ve doğum tarihi bilgilerini alınız. Aldığınız öğrenci bilgilerini yine aynı döngü yardımıyla `ogrenciler` adındaki sözlükte saklayınız. Daha sonra öğrenci bilgilerinin bulunduğu sözlük yapısını ekrana bastırınız.\n",
    "\n"
   ]
  },
  {
   "cell_type": "code",
   "execution_count": 14,
   "metadata": {},
   "outputs": [
    {
     "name": "stdout",
     "output_type": "stream",
     "text": [
      "{0: {'no': '26351', 'isim': 'melis', 'soyisim': 'kacmaz', 'tel numarasi': '55294968656', 'dogum tarihi': '290322'}, 1: {'no': '12546', 'isim': 'kutlay', 'soyisim': 'soner', 'tel numarasi': '5546869532', 'dogum tarihi': '260599'}, 2: {'no': '15487', 'isim': 'mahmut', 'soyisim': 'keskin', 'tel numarasi': '5569478532', 'dogum tarihi': '140297'}}\n"
     ]
    }
   ],
   "source": [
    "ogrenciler = {}\n",
    "\n",
    "for i in range(3):\n",
    "    schoolNum = input(\"Okul numaranizi giriniz: \")\n",
    "    name = input(\"İsminizi giriniz: \")\n",
    "    surname = input(\"Soyadinizi giriniz: \")\n",
    "    telNum = input(\"Telefon numaranizi giriniz: \")\n",
    "    birth = input(\"Dogum tarihinizi giriniz: \")\n",
    "\n",
    "    ogrenciler[i] = {\n",
    "        \"no\": schoolNum,\n",
    "        \"isim\": name,\n",
    "        \"soyisim\": surname,\n",
    "        \"tel numarasi\": telNum,\n",
    "        \"dogum tarihi\": birth\n",
    "    }\n",
    "    \n",
    "print(ogrenciler)\n"
   ]
  },
  {
   "cell_type": "markdown",
   "metadata": {},
   "source": [
    "# Problem 2\n",
    "\n",
    "### a - Biraz ısınarak başlayalım!\n",
    "\n",
    "```\n",
    "numbers = [5,10,10,15,15,15,20,20,20,20]\n",
    "```\n",
    "\n",
    "Yukarıda `numbers` adında 10 elemanlı bir liste verilmiştir. Bu listenin her elemanını kontrol eden ve tekrar eden elemanları bir kez olacak şekilde başka bir listeye kopyalayan bir program yazınız. Son olarak oluşturduğunuz listeyi ekrana bastırınız.\n",
    "\n",
    "\n",
    "\n",
    "\n",
    "```\n",
    ">Output\n",
    "[5, 10, 15, 20]\n",
    "```\n"
   ]
  },
  {
   "cell_type": "code",
   "execution_count": 15,
   "metadata": {},
   "outputs": [
    {
     "name": "stdout",
     "output_type": "stream",
     "text": [
      "[5, 10, 15, 20]\n"
     ]
    }
   ],
   "source": [
    "numbers = [5,10,10,15,15,15,20,20,20,20]\n",
    "\n",
    "unique = []\n",
    "\n",
    "for number in numbers:\n",
    "    if number in unique:\n",
    "        continue\n",
    "    else:\n",
    "        unique.append(number)\n",
    "print(unique)\n"
   ]
  },
  {
   "cell_type": "markdown",
   "metadata": {},
   "source": [
    "### 🌶️ b) Hadi işi biraz daha zorlaştıralım! \n",
    "\n",
    "\n",
    "Şimdiyse senden `numbers` isimli listedeki tekrar eden elemanları `repeatNumbers` adındaki listeye; tekrar etmeyen elemanları `uniqueNumbers`adındaki listeye kopyalayan yazmanı ve listeleri ekrana bastırmanı bekliyoruz\n",
    "\n",
    "```\n",
    ">Output\n",
    "Tekrar Eden Elemanlar: [10, 10, 15, 15, 15, 20, 20, 20, 20]\n",
    "Tekrar Etmeyen Elemanlar: [5]\n",
    "```"
   ]
  },
  {
   "cell_type": "code",
   "execution_count": 19,
   "metadata": {},
   "outputs": [
    {
     "name": "stdout",
     "output_type": "stream",
     "text": [
      "Tekrar edenler [10, 10, 15, 15, 15, 20, 20, 20, 20]\n",
      "Tekrar etmeyenler [5]\n"
     ]
    }
   ],
   "source": [
    "numbers = [5,10,10,15,15,15,20,20,20,20]\n",
    "\n",
    "unique = []\n",
    "repeat = []\n",
    "\n",
    "for number in numbers:\n",
    "    if numbers.count(number) == 1:\n",
    "        unique.append(number)\n",
    "    else:\n",
    "        repeat.append(number)\n",
    "\n",
    "print(f\"Tekrar edenler {repeat}\")\n",
    "print(f\"Tekrar etmeyenler {unique}\")"
   ]
  },
  {
   "cell_type": "markdown",
   "metadata": {},
   "source": [
    "# Problem 3\n",
    "sn1 = {1,2,3,4,5}\n",
    "\n",
    "sn2 = {4,5,6,7,8}\n",
    "\n",
    " Verilen 2 adet küme için kesişimlerini, farklarını ve birleşimlerini bulunuz. "
   ]
  },
  {
   "cell_type": "code",
   "execution_count": 20,
   "metadata": {},
   "outputs": [
    {
     "name": "stdout",
     "output_type": "stream",
     "text": [
      "{4, 5}\n",
      "{1, 2, 3}\n",
      "{1, 2, 3, 4, 5, 6, 7, 8}\n"
     ]
    }
   ],
   "source": [
    "sn1 = {1,2,3,4,5}\n",
    "sn2 = {4,5,6,7,8}\n",
    "\n",
    "kesisim = sn1.intersection(sn2)\n",
    "fark = sn1.difference(sn2)\n",
    "toplam = sn1.union(sn2)\n",
    "\n",
    "print(kesisim)\n",
    "print(fark)\n",
    "print(toplam)"
   ]
  },
  {
   "cell_type": "markdown",
   "metadata": {},
   "source": [
    "# Problem 4\n",
    "\n",
    "Buradaki işlemlerimizin tamamı stringler içindir. Aşağıda verilecek olan metodlar için kendinizin örnek yaratması gerekmektedir. \n",
    "\n",
    "Örneğin `upper` için `string` değişkeni oluştururken` k = \"BAC\"` şeklinde oluşturmayınız. Bunun yerine k değişkenini `k = \"bac`\" şeklinde oluşturmanız `upper` metodundaki değişimi görebilmeniz için daha iyi olacaktır.\n",
    "\n",
    "Bütün metodlardaki değişimin gözle görülür şekilde değişimi beklenmektedir.\n",
    "\n",
    "\n",
    "1- capitalize(), lower(), upper(), swapcase(), title(), replace()\n",
    "\n",
    "2- endswith(), startswith(), find(), index(), count()\n",
    "\n",
    "3- split(), strip(), join(), islower(), isalpha(), isdigit()\n",
    "\n",
    "\n",
    "Yukarıdaki `string` metodlarındaki değişimleri görebildiğimiz bir program yazınız.\n"
   ]
  },
  {
   "cell_type": "code",
   "execution_count": 29,
   "metadata": {},
   "outputs": [
    {
     "name": "stdout",
     "output_type": "stream",
     "text": [
      "            Yetgen Core ile Python Öğreniyorum          \n",
      "            yetgen core ile python öğreniyorum          \n",
      "            yetgen core ile python öğreniyorum          \n",
      "            YETGEN CORE ILE PYTHON ÖĞRENIYORUM          \n",
      "            yETGEN cORE ILE pYTHON öĞRENIYORUM          \n",
      "            Yetgen Core Ile Python Öğreniyorum          \n",
      "            Yetgen Core ile Begüm liderimle 21. yüzyıl yetkinliklerini Öğreniyorum          \n",
      "False\n",
      "False\n",
      "28\n",
      "5\n",
      "['', '', '', '', '', '', '', '', '', '', '', '', 'Yetgen', 'Core', 'ile', 'Python', 'Öğreniyorum', '', '', '', '', '', '', '', '', '', '']\n",
      "         Yetgen Core ile Python Öğreniyorum             \n",
      "Yetgen Core ile Python Öğreniyorum\n",
      "Yetgen Core ile Python Öğreniyorum\n",
      "False\n",
      "False\n",
      "True\n"
     ]
    }
   ],
   "source": [
    "k =\"            Yetgen Core ile Python Öğreniyorum          \"\n",
    "print(k)\n",
    "print(k.capitalize())\n",
    "print(k.lower())\n",
    "print(k.upper())\n",
    "print(k.swapcase())\n",
    "print(k.title())\n",
    "print(k.replace(\"Python\", \"Begüm liderimle 21. yüzyıl yetkinliklerini\"))\n",
    "print(k.endswith(\"öğreniyorum\"))\n",
    "print(k.startswith(\"Üniversite\"))\n",
    "print(k.find(\"Python\"))\n",
    "print(k.count(\"e\"))\n",
    "print(k.split(\" \"))\n",
    "\n",
    "k= \"         Yetgen Core ile Python Öğreniyorum             \"\n",
    "print(k)\n",
    "k = k.strip()\n",
    "print(k)\n",
    "\n",
    "l = (\"Yetgen\", \"Core\", \"ile\", \"Python\", \"Öğreniyorum\")\n",
    "print(\" \".join(l))\n",
    "\n",
    "print(k.isalpha())\n",
    "print(k.isdigit())\n",
    "print(k.lower().islower())"
   ]
  }
 ],
 "metadata": {
  "kernelspec": {
   "display_name": "Python 3.10.5 64-bit",
   "language": "python",
   "name": "python3"
  },
  "language_info": {
   "codemirror_mode": {
    "name": "ipython",
    "version": 3
   },
   "file_extension": ".py",
   "mimetype": "text/x-python",
   "name": "python",
   "nbconvert_exporter": "python",
   "pygments_lexer": "ipython3",
   "version": "3.11.1"
  },
  "orig_nbformat": 4,
  "vscode": {
   "interpreter": {
    "hash": "5026d2d6e7aaaaba093def813beadff083d8733e4a511af01735cbabd156995d"
   }
  }
 },
 "nbformat": 4,
 "nbformat_minor": 2
}
